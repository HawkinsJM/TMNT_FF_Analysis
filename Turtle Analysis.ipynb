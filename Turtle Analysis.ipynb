{
 "cells": [
  {
   "cell_type": "code",
   "execution_count": 175,
   "metadata": {
    "collapsed": false
   },
   "outputs": [],
   "source": [
    "%matplotlib osx\n",
    "# The usual preamble\n",
    "import pandas as pd\n",
    "import matplotlib.pyplot as plt\n",
    "# Make the graphs a bit prettier, and bigger\n",
    "pd.set_option('display.mpl_style', 'default') \n",
    "pd.set_option('display.width', 5000) \n",
    "pd.set_option('display.max_columns', 60) "
   ]
  },
  {
   "cell_type": "code",
   "execution_count": 195,
   "metadata": {
    "collapsed": false
   },
   "outputs": [
    {
     "data": {
      "text/plain": [
       "array(['id', 'title', 'author', 'chapter_count', 'word_count',\n",
       "       'date_published', 'date_updated', 'rated', 'status', 'language',\n",
       "       'genre', 'characters', 'reviews', 'Adventure', 'Angst', 'Crime',\n",
       "       'Drama', 'Family', 'Fantasy', 'Friendship', 'General', 'Horror',\n",
       "       'Humor', 'Hurt/Comfort', 'Mystery', 'Parody', 'Poetry', 'Romance',\n",
       "       'Sci-Fi', 'Spiritual', 'Supernatural', 'Suspense', 'Tragedy',\n",
       "       'Western', 'Agent Bishop', 'Ancient One', 'Angel', \"April O'Neil\",\n",
       "       'Baxter Stockman', 'Bloodsucker', 'Casey Jones', 'Chaplin',\n",
       "       'Cody Jones', 'Dark Turtles', 'Donatello', 'Draco', 'Foot Ninja',\n",
       "       'Hun', 'Irma L.', 'Joy Reno', 'Justice Force', 'Karai', 'Katmandu',\n",
       "       'Klunk', 'Krang', 'Leatherhead', 'Leonardo', 'Lotus',\n",
       "       'Michelangelo', 'Mighty Mutanimals', 'Monalisa', 'Neutrinos',\n",
       "       'Ninjara', 'OC', 'Oyuki M.', 'Radical', 'Raphael', 'Rat King',\n",
       "       'Renet', 'Serling', 'Shadow J.', 'Shen', 'Shredder', 'Slash',\n",
       "       'Splinter', 'Starly', 'Super Turtles', 'Sydny', 'Tribunal',\n",
       "       'Triceratons', 'Ultimate Daimyo', 'Ultimate Ninja',\n",
       "       'Usagi Miyamoto', 'VenusdeMilo', 'Vernon Fenwick', 'Yoshi'], dtype=object)"
      ]
     },
     "execution_count": 195,
     "metadata": {},
     "output_type": "execute_result"
    }
   ],
   "source": [
    "nt= pd.read_csv('cartoon-Ninja-Turtles.csv')\n",
    "#set date_published and date_updated to date/time values\n",
    "nt['date_published'] = pd.to_datetime(nt['date_published'])\n",
    "nt['date_updated'] = pd.to_datetime(nt['date_updated'])\n",
    "nt.drop('Unnamed: 0', axis=1, inplace=True)\n",
    "nt.columns.values"
   ]
  },
  {
   "cell_type": "code",
   "execution_count": 177,
   "metadata": {
    "collapsed": false
   },
   "outputs": [
    {
     "data": {
      "text/plain": [
       "<matplotlib.axes._subplots.AxesSubplot at 0x1119a67d0>"
      ]
     },
     "execution_count": 177,
     "metadata": {},
     "output_type": "execute_result"
    }
   ],
   "source": [
    "#plot a bar chart showing the distribution of ratings\n",
    "nt['rated'].value_counts().plot(kind='bar', title=\"Rating Count for All Stories\")"
   ]
  },
  {
   "cell_type": "code",
   "execution_count": 178,
   "metadata": {
    "collapsed": false
   },
   "outputs": [
    {
     "data": {
      "text/plain": [
       "<matplotlib.axes._subplots.AxesSubplot at 0x10864b790>"
      ]
     },
     "execution_count": 178,
     "metadata": {},
     "output_type": "execute_result"
    }
   ],
   "source": [
    "#number of stories in the top three most used languages\n",
    "nt['language'].value_counts().head(3).plot(kind='pie', title=\"Prevalence of Three Most Common Languages\")"
   ]
  },
  {
   "cell_type": "code",
   "execution_count": 219,
   "metadata": {
    "collapsed": false
   },
   "outputs": [
    {
     "data": {
      "text/plain": [
       "<matplotlib.text.Text at 0x11c9727d0>"
      ]
     },
     "execution_count": 219,
     "metadata": {},
     "output_type": "execute_result"
    }
   ],
   "source": [
    "#which turtle is in the most M rated stories?\n",
    "tr = nt[['rated', 'Michelangelo', 'Leonardo', 'Donatello', 'Raphael']].groupby('rated').sum()\n",
    "customcmap = ['#800080', '#FFA500', 'b', 'r']\n",
    "trp = tr.plot(kind='bar', color=customcmap, title='Turtle Appearnces by Rating')\n",
    "trp.set_xlabel(\"Rating\")\n",
    "trp.set_ylabel(\"Number of Stories Turtle Is In\")\n",
    "\n",
    "\n",
    "#complaints['Complaint Type'] == \"Noise - Street/Sidewalk\""
   ]
  },
  {
   "cell_type": "code",
   "execution_count": 193,
   "metadata": {
    "collapsed": false
   },
   "outputs": [
    {
     "data": {
      "text/plain": [
       "<matplotlib.text.Text at 0x11501e110>"
      ]
     },
     "execution_count": 193,
     "metadata": {},
     "output_type": "execute_result"
    }
   ],
   "source": [
    "#who is the most popular turtle?\n",
    "turtles = ['Donatello', 'Michelangelo', 'Leonardo', 'Raphael']\n",
    "turtle_c = {}\n",
    "for turtle in turtles:\n",
    "    count = [nt[turtle].value_counts()[1]]\n",
    "    turtle_c.update({turtle: count})\n",
    "\n",
    "pop = pd.DataFrame.from_dict(turtle_c).head()\n",
    "popp = pop.plot(kind='bar', color=customcmap, title='Turtle Popularity')\n",
    "popp.set_ylabel(\"Number of Stories Turtle Is In\")"
   ]
  },
  {
   "cell_type": "code",
   "execution_count": 212,
   "metadata": {
    "collapsed": false
   },
   "outputs": [
    {
     "data": {
      "text/plain": [
       "<matplotlib.text.Text at 0x113d9fe10>"
      ]
     },
     "execution_count": 212,
     "metadata": {},
     "output_type": "execute_result"
    }
   ],
   "source": [
    "#plot number of stories per year\n",
    "nt_scount = nt[['date_published', 'id']].set_index('date_published').resample('6M', how='count')\n",
    "scount_plot = nt_scount.plot(kind='line', legend = False, title = 'Number of Stories Published vs. Time')\n",
    "scount_plot.set_xlabel(\"Time\")\n",
    "scount_plot.set_ylabel(\"Number of Stories Published / 6 Months\")"
   ]
  },
  {
   "cell_type": "code",
   "execution_count": 214,
   "metadata": {
    "collapsed": false,
    "scrolled": true
   },
   "outputs": [],
   "source": [
    "#filer to 2006 and later\n",
    "ntcar = nt[nt.date_published > '2006-06-01']\n",
    "ntcar = ntcar[['date_published', 'Michelangelo', 'Leonardo', 'Donatello', 'Raphael']].set_index('date_published').resample('6M', how='sum')\n"
   ]
  },
  {
   "cell_type": "code",
   "execution_count": 228,
   "metadata": {
    "collapsed": false
   },
   "outputs": [
    {
     "data": {
      "text/plain": [
       "<matplotlib.text.Text at 0x11d5d2350>"
      ]
     },
     "execution_count": 228,
     "metadata": {},
     "output_type": "execute_result"
    }
   ],
   "source": [
    "#plot turtle popularity\n",
    "\n",
    "#as percentage of all turtle metions\n",
    "ntcar.columns.values\n",
    "ntcarpera = ntcar.div(ntcar.sum(axis=1), axis='index')\n",
    "#as a pecentage of storys\n",
    "ntcarpers = ntcar.div(nt_scount['id'], axis='index')\n",
    "ntcarpers[:20]\n",
    "trs = ntcarpera.plot(color=customcmap, title='Percentage of Total Turtle Appearenes vs. Time')\n",
    "trs.set_xlabel(\"Time\")\n",
    "trs.set_ylabel(\"Percentage of Total Turtle Appearenes / 6 Months\")"
   ]
  },
  {
   "cell_type": "code",
   "execution_count": 231,
   "metadata": {
    "collapsed": false
   },
   "outputs": [
    {
     "data": {
      "text/plain": [
       "<matplotlib.text.Text at 0x113fbe390>"
      ]
     },
     "execution_count": 231,
     "metadata": {},
     "output_type": "execute_result"
    }
   ],
   "source": [
    "#Plot OC stroies by year\n",
    "ocp = nt['OC'].resample('12M', how=sum).plot(kind='line', title='Original Character Appearnces vs. Time')\n",
    "ocp.set_xlabel(\"Time\")\n",
    "ocp.set_ylabel(\"Number of Stories Featuring an OC\")"
   ]
  }
 ],
 "metadata": {
  "kernelspec": {
   "display_name": "Python 2",
   "language": "python",
   "name": "python2"
  },
  "language_info": {
   "codemirror_mode": {
    "name": "ipython",
    "version": 2
   },
   "file_extension": ".py",
   "mimetype": "text/x-python",
   "name": "python",
   "nbconvert_exporter": "python",
   "pygments_lexer": "ipython2",
   "version": "2.7.10"
  }
 },
 "nbformat": 4,
 "nbformat_minor": 0
}
